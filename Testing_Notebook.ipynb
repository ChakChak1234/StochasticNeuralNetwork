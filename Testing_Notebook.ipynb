{
 "cells": [
  {
   "cell_type": "code",
   "execution_count": 2,
   "metadata": {},
   "outputs": [],
   "source": [
    "import networkx as nx\n",
    "from random import random"
   ]
  },
  {
   "cell_type": "code",
   "execution_count": 5,
   "metadata": {},
   "outputs": [],
   "source": [
    "D = nx.DiGraph()\n",
    "D.add_nodes_from(range(10))\n",
    "\n",
    "for n in D.nodes():\n",
    "    for m in D.nodes():\n",
    "        if m <= n:\n",
    "            continue\n",
    "        D.add_edge(n,m, weight=0.5)"
   ]
  },
  {
   "cell_type": "code",
   "execution_count": 7,
   "metadata": {},
   "outputs": [
    {
     "name": "stdout",
     "output_type": "stream",
     "text": [
      "{'weight': 0.5}\n",
      "{'weight': 0.5}\n",
      "{'weight': 0.5}\n",
      "{'weight': 0.5}\n",
      "{'weight': 0.5}\n",
      "{'weight': 0.5}\n",
      "{'weight': 0.5}\n",
      "{'weight': 0.5}\n",
      "{'weight': 0.5}\n",
      "{'weight': 0.5}\n",
      "{'weight': 0.5}\n",
      "{'weight': 0.5}\n",
      "{'weight': 0.5}\n",
      "{'weight': 0.5}\n",
      "{'weight': 0.5}\n",
      "{'weight': 0.5}\n",
      "{'weight': 0.5}\n",
      "{'weight': 0.5}\n",
      "{'weight': 0.5}\n",
      "{'weight': 0.5}\n",
      "{'weight': 0.5}\n",
      "{'weight': 0.5}\n",
      "{'weight': 0.5}\n",
      "{'weight': 0.5}\n",
      "{'weight': 0.5}\n",
      "{'weight': 0.5}\n",
      "{'weight': 0.5}\n",
      "{'weight': 0.5}\n",
      "{'weight': 0.5}\n",
      "{'weight': 0.5}\n",
      "{'weight': 0.5}\n",
      "{'weight': 0.5}\n",
      "{'weight': 0.5}\n",
      "{'weight': 0.5}\n",
      "{'weight': 0.5}\n",
      "{'weight': 0.5}\n",
      "{'weight': 0.5}\n",
      "{'weight': 0.5}\n",
      "{'weight': 0.5}\n",
      "{'weight': 0.5}\n",
      "{'weight': 0.5}\n",
      "{'weight': 0.5}\n",
      "{'weight': 0.5}\n",
      "{'weight': 0.5}\n",
      "{'weight': 0.5}\n"
     ]
    }
   ],
   "source": [
    "for s,t  in D.edges():\n",
    "    print(D[s][t])"
   ]
  },
  {
   "cell_type": "code",
   "execution_count": null,
   "metadata": {},
   "outputs": [],
   "source": []
  }
 ],
 "metadata": {
  "kernelspec": {
   "display_name": "Python 3",
   "language": "python",
   "name": "python3"
  },
  "language_info": {
   "codemirror_mode": {
    "name": "ipython",
    "version": 3
   },
   "file_extension": ".py",
   "mimetype": "text/x-python",
   "name": "python",
   "nbconvert_exporter": "python",
   "pygments_lexer": "ipython3",
   "version": "3.7.3"
  }
 },
 "nbformat": 4,
 "nbformat_minor": 4
}
