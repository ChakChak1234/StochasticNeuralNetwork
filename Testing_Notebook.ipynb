{
 "cells": [
  {
   "cell_type": "code",
   "execution_count": 1,
   "metadata": {},
   "outputs": [],
   "source": [
    "import networkx as nx"
   ]
  },
  {
   "cell_type": "code",
   "execution_count": 5,
   "metadata": {},
   "outputs": [
    {
     "name": "stdout",
     "output_type": "stream",
     "text": [
      "<class 'int'>\n",
      "<class 'dict'>\n",
      "\n",
      "<class 'int'>\n",
      "<class 'dict'>\n",
      "\n",
      "<class 'int'>\n",
      "<class 'dict'>\n",
      "\n",
      "<class 'int'>\n",
      "<class 'dict'>\n",
      "\n",
      "<class 'int'>\n",
      "<class 'dict'>\n",
      "\n",
      "<class 'int'>\n",
      "<class 'dict'>\n",
      "\n",
      "<class 'int'>\n",
      "<class 'dict'>\n",
      "\n",
      "<class 'int'>\n",
      "<class 'dict'>\n",
      "\n",
      "<class 'int'>\n",
      "<class 'dict'>\n",
      "\n",
      "<class 'int'>\n",
      "<class 'dict'>\n",
      "\n"
     ]
    }
   ],
   "source": [
    "D = nx.DiGraph()\n",
    "D.add_nodes_from(range(10))\n",
    "\n",
    "for node in D.nodes():\n",
    "    print(type(node))\n",
    "    print(type(D.nodes[node]))\n",
    "    print(\"\")"
   ]
  },
  {
   "cell_type": "code",
   "execution_count": null,
   "metadata": {},
   "outputs": [],
   "source": []
  }
 ],
 "metadata": {
  "kernelspec": {
   "display_name": "Python 3",
   "language": "python",
   "name": "python3"
  },
  "language_info": {
   "codemirror_mode": {
    "name": "ipython",
    "version": 3
   },
   "file_extension": ".py",
   "mimetype": "text/x-python",
   "name": "python",
   "nbconvert_exporter": "python",
   "pygments_lexer": "ipython3",
   "version": "3.7.3"
  }
 },
 "nbformat": 4,
 "nbformat_minor": 4
}
